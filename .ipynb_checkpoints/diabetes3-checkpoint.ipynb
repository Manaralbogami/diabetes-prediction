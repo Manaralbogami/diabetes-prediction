{
 "cells": [
  {
   "cell_type": "markdown",
   "id": "ee142093",
   "metadata": {},
   "source": [
    "# Dataset Description\n",
    "The dataset originally has 22 features (columns), but based on diabetes disease research regarding factors influencing diabetes disease and other chronic health conditions, only select features are included in this analysis. The dataset contains the following information:\n",
    "\n",
    "* Diabetes_binary : 0 = no diabetes 1 = prediabetes 2 = diabetes\n",
    "* HighBP (High blood pressure ): 0 = no high BP 1 = high BP\n",
    "* HighChol: 0 = no high cholesterol 1 = high cholesterol\n",
    "* CholCheck: 0 = no cholesterol check in 5 years 1 = yes cholesterol check in 5 years\n",
    "* BMI: Body Mass Index\n",
    "* Smoker: Have you smoked at least 100 cigarettes in your entire life? [Note: 5 packs = 100 cigarettes] 0 = no 1 = yes\n",
    "* Stroke: (Ever told) you had a stroke. 0 = no 1 = yes\n",
    "* PhysActivity: physical activity in past 30 days - not including job 0 = no 1 = yes\n",
    "* Fruits: Consume Fruit 1 or more times per day 0 = no 1 = yes* Weight in gms: It is the weight in grams.\n",
    "* Veggies: Consume Vegetables 1 or more times per day 0 = no 1 = yes\n",
    "\n",
    "* HvyAlcoholConsump : (adult men >=14 drinks per week and adult women>=7 drinks per week) 0 = no 1 = yes\n",
    "* AnyHealthcare: Have any kind of health care coverage, including health insurance, prepaid plans such as HMO, etc. 0 = no 1 = yes\n",
    "* NoDocbcCost: Was there a time in the past 12 months when you needed to see a doctor but could not because of cost? 0 = no 1 = yes\n",
    "* GenHlth: Would you say that in general your health is: scale 1-5 1 = excellent 2 = very good 3 = good 4 = fair 5 = poor\n",
    "* MentHlth: days of poor mental health scale 1-30 days\n",
    "* PhysHlth: physical illness or injury days in past 30 days scale 1-30\n",
    "* DiffWalk: Do you have serious difficulty walking or climbing stairs? 0 = no 1 = yes\n",
    "* Sex: 0 = female 1 = male\n",
    "* Age: 13-level age category / 1 = 18-24 9 = 60-64 13 = 80 or older\n",
    "* Education : Education level (EDUCA see codebook) scale 1-6 1 = Never attended school or only kindergarten 2 = elementary etc.\n",
    "* Income: Income scale (INCOME2 see codebook) scale 1-8 1 = less than $10,000 5 = less than $35,000 8 = $75,000 or more"
   ]
  },
  {
   "cell_type": "code",
   "execution_count": null,
   "id": "01bcfb3b",
   "metadata": {},
   "outputs": [],
   "source": [
    "import pandas as pd\n",
    "import numpy as np\n",
    "import matplotlib.pyplot as plt\n",
    "import seaborn as sns\n",
    "sns.set()\n",
    "%matplotlib inline\n",
    "from sklearn.model_selection import train_test_split\n",
    "from sklearn.metrics import classification_report\n",
    "from sklearn.linear_model import LogisticRegression"
   ]
  },
  {
   "cell_type": "code",
   "execution_count": null,
   "id": "79a0da97",
   "metadata": {},
   "outputs": [],
   "source": [
    "Diabetes = pd.read_csv(r'C:\\Users\\Manaralbogamii\\Desktop\\ProjectT5\\Datasetdiabetes.csv')\n",
    "Diabetes.head()"
   ]
  },
  {
   "cell_type": "markdown",
   "id": "935903ae",
   "metadata": {},
   "source": [
    "# Exploratory data analysis (EDA)"
   ]
  },
  {
   "cell_type": "code",
   "execution_count": null,
   "id": "16d878f4",
   "metadata": {},
   "outputs": [],
   "source": [
    "print('Dimension of Diabetes Date : {}'.format(Diabetes.shape))"
   ]
  },
  {
   "cell_type": "code",
   "execution_count": null,
   "id": "518a3bb4",
   "metadata": {},
   "outputs": [],
   "source": [
    "Diabetes.info()"
   ]
  },
  {
   "cell_type": "code",
   "execution_count": null,
   "id": "4032ccb1",
   "metadata": {},
   "outputs": [],
   "source": [
    "Diabetes.describe()"
   ]
  },
  {
   "cell_type": "code",
   "execution_count": null,
   "id": "6df1cead",
   "metadata": {},
   "outputs": [],
   "source": [
    "#Get overall idea of the distribution of all columns using hist()"
   ]
  },
  {
   "cell_type": "code",
   "execution_count": null,
   "id": "56da61e7",
   "metadata": {},
   "outputs": [],
   "source": [
    "Diabetes.hist(figsize=(20,28))"
   ]
  },
  {
   "cell_type": "markdown",
   "id": "1324ee8b",
   "metadata": {},
   "source": [
    "### Outcomes\n",
    "Diabetes_binary is unbalanced which means number of people with no diabetes is more than number of people with diabetes."
   ]
  },
  {
   "cell_type": "markdown",
   "id": "e227c97d",
   "metadata": {},
   "source": [
    "## Questions :\n",
    "  #### 1-  what is the incidence rate of Diabetics and non-Diabetics?\n",
    "  #### 2-  What is the rate of Diabetes by Sex ?\n",
    "  #### 3-  Do people with diabetes have high blood pressure?\n",
    "  #### 4-  Do people with diabetes have high cholesterol?\n",
    "  #### 5-  What age is most affected by diabetes?\n"
   ]
  },
  {
   "cell_type": "markdown",
   "id": "107cd3a4",
   "metadata": {},
   "source": [
    " <span style=\"color:green ;font-size:20px; font-weight:bold\"> 1-  what is the incidence rate of Diabetics and non-Diabetics? </span>\n"
   ]
  },
  {
   "cell_type": "code",
   "execution_count": null,
   "id": "a99f3a72",
   "metadata": {},
   "outputs": [],
   "source": [
    "colors = [\"b\",\"r\"]\n",
    "labels = [\"No Diabetes\",\"Diabetes\"]\n",
    "Diabetes.Diabetes_binary.value_counts().plot.pie(labels = labels, figsize=(5,5), autopct='%1.1f%%',colors = colors)\n",
    "plt.title(\"The Incidence Rate of Diabetics and non-Diabetics\")"
   ]
  },
  {
   "cell_type": "markdown",
   "id": "f8127540",
   "metadata": {},
   "source": [
    "### Outcomes\n",
    "- Percentage of people with diabetes represents 13.9%\n",
    "- Percentage of people with no-diabetes represents 86.1%"
   ]
  },
  {
   "cell_type": "code",
   "execution_count": null,
   "id": "bdd77298",
   "metadata": {},
   "outputs": [],
   "source": [
    "Diabetes.Diabetes_binary.value_counts()"
   ]
  },
  {
   "cell_type": "code",
   "execution_count": null,
   "id": "e51ab173",
   "metadata": {},
   "outputs": [],
   "source": [
    "Diabetes.Sex.value_counts()"
   ]
  },
  {
   "cell_type": "markdown",
   "id": "d9dbb393",
   "metadata": {},
   "source": [
    "## Checking the missing vlaues\n"
   ]
  },
  {
   "cell_type": "code",
   "execution_count": null,
   "id": "b62610eb",
   "metadata": {},
   "outputs": [],
   "source": [
    "Diabetes.isnull().sum()\n"
   ]
  },
  {
   "cell_type": "markdown",
   "id": "ad65faae",
   "metadata": {},
   "source": [
    "### Outcomes:\n",
    "- no missing value found"
   ]
  },
  {
   "cell_type": "markdown",
   "id": "6194da91",
   "metadata": {},
   "source": [
    "## Change vlaues\n"
   ]
  },
  {
   "cell_type": "code",
   "execution_count": null,
   "id": "46396a6d",
   "metadata": {},
   "outputs": [],
   "source": [
    "Diabetes.loc[Diabetes[\"Sex\"] == 0,\"Sex\"] = 'F'\n",
    "Diabetes.loc[Diabetes[\"Sex\"] == 1,\"Sex\"] = 'M'"
   ]
  },
  {
   "cell_type": "code",
   "execution_count": null,
   "id": "b5a80821",
   "metadata": {},
   "outputs": [],
   "source": [
    "#cheack value \n",
    "Diabetes.Sex.value_counts()"
   ]
  },
  {
   "cell_type": "code",
   "execution_count": null,
   "id": "4fb866fc",
   "metadata": {},
   "outputs": [],
   "source": [
    "Diabetes.loc[Diabetes[\"Diabetes_binary\"] == 0,\"Diabetes_binary\"] = 'No Diabetes'\n",
    "Diabetes.loc[Diabetes[\"Diabetes_binary\"] == 1,\"Diabetes_binary\"] = 'Diabetes'"
   ]
  },
  {
   "cell_type": "code",
   "execution_count": null,
   "id": "7a6bbc1a",
   "metadata": {},
   "outputs": [],
   "source": [
    "#cheack value \n",
    "Diabetes.Diabetes_binary.value_counts()"
   ]
  },
  {
   "cell_type": "markdown",
   "id": "d095e929",
   "metadata": {},
   "source": [
    "<span style=\"color:green ;font-size:20px; font-weight:bold\"> 2- What is the rate of Diabetes by Sex ?</span>\n"
   ]
  },
  {
   "cell_type": "code",
   "execution_count": null,
   "id": "415e1178",
   "metadata": {},
   "outputs": [],
   "source": [
    "Percentage_of_infected=pd.DataFrame(Diabetes.groupby('Sex')['Diabetes_binary'].count()).apply(lambda x : x / sum(x) * 100)\n",
    "Percentage_of_infected"
   ]
  },
  {
   "cell_type": "code",
   "execution_count": null,
   "id": "130a520a",
   "metadata": {},
   "outputs": [],
   "source": [
    "Diabetes_by_sex= Diabetes.groupby('Sex').Diabetes_binary.value_counts().plot(kind='bar',width =1,figsize=(5,5), color=['Blue','red'])\n",
    "Diabetes_by_sex.set_title(\"Diabetes by Sex ?\")\n",
    "plt.ylabel(\"Count\")\n",
    "plt.xlabel(\"Sex\")\n",
    "plt.legend(['No_Diabetes','Diabetes']);\n",
    "plt.show()"
   ]
  },
  {
   "cell_type": "markdown",
   "id": "e08cf976",
   "metadata": {},
   "source": [
    "### Outcomes:\n",
    "- number of female with No_Diabetes is higher than males \n",
    "- number of female with Diabetes is approximatly like number of males with Diabetes\n"
   ]
  },
  {
   "cell_type": "markdown",
   "id": "1869a99c",
   "metadata": {},
   "source": [
    "<span style=\"color:green ;font-size:20px; font-weight:bold\"> 3-Do people with diabetes have high blood pressure?</span>\n"
   ]
  },
  {
   "cell_type": "code",
   "execution_count": null,
   "id": "55e57ae4",
   "metadata": {},
   "outputs": [],
   "source": [
    "Diabetes['HighBP'].value_counts()"
   ]
  },
  {
   "cell_type": "code",
   "execution_count": null,
   "id": "382ee409",
   "metadata": {},
   "outputs": [],
   "source": [
    "Diabetes.loc[Diabetes[\"HighBP\"] == 0,\"HighBP\"] = 'No high blood pressure'\n",
    "Diabetes.loc[Diabetes[\"HighBP\"] == 1,\"HighBP\"] = 'Have high blood pressure'"
   ]
  },
  {
   "cell_type": "code",
   "execution_count": null,
   "id": "e63a9856",
   "metadata": {},
   "outputs": [],
   "source": [
    "sns.countplot(Diabetes.HighBP,hue='Diabetes_binary',data=Diabetes)"
   ]
  },
  {
   "cell_type": "markdown",
   "id": "f99aa485",
   "metadata": {},
   "source": [
    "### Outcomes:\n",
    "\n",
    "- number of people who have Diabetes with high blood pressure is higher than number of people who have Diabetes with no high blood pressure\n"
   ]
  },
  {
   "cell_type": "markdown",
   "id": "30b6545c",
   "metadata": {},
   "source": [
    "<span style=\"color:green ;font-size:20px; font-weight:bold\"> 4-Do people with diabetes have high cholesterol?</span>\n"
   ]
  },
  {
   "cell_type": "code",
   "execution_count": null,
   "id": "ff878e1e",
   "metadata": {},
   "outputs": [],
   "source": [
    "Diabetes['HighChol'].value_counts()"
   ]
  },
  {
   "cell_type": "code",
   "execution_count": null,
   "id": "eeadb320",
   "metadata": {},
   "outputs": [],
   "source": [
    "Diabetes.loc[Diabetes[\"HighChol\"] == 0,\"HighChol\"] = 'No high Cholesterol'\n",
    "Diabetes.loc[Diabetes[\"HighChol\"] == 1,\"HighChol\"] = 'Have high Cholesterol'"
   ]
  },
  {
   "cell_type": "code",
   "execution_count": null,
   "id": "00d8ee9f",
   "metadata": {},
   "outputs": [],
   "source": [
    "sns.countplot(Diabetes.HighChol,hue='Diabetes_binary',data=Diabetes)"
   ]
  },
  {
   "cell_type": "markdown",
   "id": "02d88d6b",
   "metadata": {},
   "source": [
    "### Outcomes:\n",
    "\n",
    "- number of people who have Diabetes with high Cholesterol is higher than number of people who have Diabetes with no high Cholesterol.\n"
   ]
  },
  {
   "cell_type": "markdown",
   "id": "f9eb2e4d",
   "metadata": {},
   "source": [
    "<span style=\"color:green ;font-size:20px; font-weight:bold\">5-What age is most affected by diabetes? </span>\n"
   ]
  },
  {
   "cell_type": "code",
   "execution_count": null,
   "id": "4e6d3ae1",
   "metadata": {},
   "outputs": [],
   "source": [
    "Diabetes['Age'].value_counts()"
   ]
  },
  {
   "cell_type": "code",
   "execution_count": null,
   "id": "dd5bc5e7",
   "metadata": {},
   "outputs": [],
   "source": [
    "#change dtype for age to int\n",
    "Diabetes['Age'] = Diabetes['Age'].astype('int')"
   ]
  },
  {
   "cell_type": "code",
   "execution_count": null,
   "id": "f8781ba1",
   "metadata": {},
   "outputs": [],
   "source": [
    "Diabetes['Age'].value_counts()"
   ]
  },
  {
   "cell_type": "code",
   "execution_count": null,
   "id": "b81d1c77",
   "metadata": {},
   "outputs": [],
   "source": [
    "age = Diabetes.groupby('Age')['Diabetes_binary'].value_counts().unstack().plot(kind='bar',width =1,figsize=(5,5), color=['red','blue'])\n",
    "age.set_title(\"Age classification of people with diabetes\")\n",
    "age.set_xlabel('Age classification')\n",
    "age.set_ylabel('count')\n",
    "plt.show()"
   ]
  },
  {
   "cell_type": "markdown",
   "id": "8b72f340",
   "metadata": {},
   "source": [
    "### Outcomes:\n",
    "age classification is skewed to the left. which means \n",
    "- the percentage of people who are between the level 8-11 have a diabetes more than the rest.\n",
    "- number of people who have no diabetes is higher \n",
    "\n",
    "**hint: Age: 13-level age category** \n",
    "\n",
    "* 1 = 18-24\n",
    "\n",
    "* 9 = 60-64 \n",
    "* 13 = 80 or older\n",
    "\n"
   ]
  },
  {
   "cell_type": "code",
   "execution_count": null,
   "id": "79475045",
   "metadata": {},
   "outputs": [],
   "source": [
    "Diabetes_binary_dict = {\n",
    "    'No Diabetes' : 0,\n",
    "    'Diabetes' : 1\n",
    "}"
   ]
  },
  {
   "cell_type": "code",
   "execution_count": null,
   "id": "41052f20",
   "metadata": {},
   "outputs": [],
   "source": [
    "Diabetes.Diabetes_binary.map(Diabetes_binary_dict) "
   ]
  },
  {
   "cell_type": "code",
   "execution_count": null,
   "id": "4a328106",
   "metadata": {},
   "outputs": [],
   "source": [
    "Diabetes['Diabetes_binary'] =Diabetes.Diabetes_binary.map(Diabetes_binary_dict) \n",
    "Diabetes.head()"
   ]
  },
  {
   "cell_type": "code",
   "execution_count": null,
   "id": "67f79128",
   "metadata": {},
   "outputs": [],
   "source": [
    "Diabetes['Diabetes_binary'].value_counts()"
   ]
  },
  {
   "cell_type": "code",
   "execution_count": null,
   "id": "67aadb92",
   "metadata": {},
   "outputs": [],
   "source": [
    "HighBP_dict = {\n",
    "    'No high blood pressure' : 0,\n",
    "    'Have high blood pressure' : 1\n",
    "}"
   ]
  },
  {
   "cell_type": "code",
   "execution_count": null,
   "id": "ce15fa89",
   "metadata": {
    "scrolled": true
   },
   "outputs": [],
   "source": [
    "Diabetes.HighBP.map(HighBP_dict) \n",
    "Diabetes['HighBP'] =Diabetes.HighBP.map(HighBP_dict) \n",
    "Diabetes.head()"
   ]
  },
  {
   "cell_type": "code",
   "execution_count": null,
   "id": "ff2890fe",
   "metadata": {},
   "outputs": [],
   "source": [
    "HighChol_dict = {\n",
    "    'No high Cholesterol' : 0,\n",
    "    'Have high Cholesterol' : 1\n",
    "}\n",
    "Diabetes.HighChol.map(HighChol_dict) \n",
    "Diabetes['HighChol'] =Diabetes.HighChol.map(HighChol_dict) \n",
    "Diabetes['HighChol'].value_counts()"
   ]
  },
  {
   "cell_type": "code",
   "execution_count": null,
   "id": "f11ed17d",
   "metadata": {},
   "outputs": [],
   "source": [
    "Sex_dict = {\n",
    "    'F' : 0,\n",
    "    'M' : 1\n",
    "}\n",
    "Diabetes.Sex.map(Sex_dict) \n",
    "Diabetes['Sex'] =Diabetes.Sex.map(Sex_dict) \n",
    "Diabetes['Sex'].value_counts()"
   ]
  },
  {
   "cell_type": "code",
   "execution_count": null,
   "id": "5fdc512b",
   "metadata": {},
   "outputs": [],
   "source": [
    "#change Data type for columns form flot to int\n",
    "Diabetes['CholCheck'] = Diabetes['CholCheck'].astype('int')\n",
    "Diabetes['BMI'] = Diabetes['BMI'].astype('int')\n",
    "Diabetes['Smoker'] = Diabetes['Smoker'].astype('int')\n",
    "Diabetes['Stroke'] = Diabetes['Stroke'].astype('int')\n",
    "Diabetes['HeartDiseaseorAttack'] = Diabetes['HeartDiseaseorAttack'].astype('int')\n",
    "Diabetes['PhysActivity'] = Diabetes['PhysActivity'].astype('int')\n",
    "Diabetes['Fruits'] = Diabetes['Fruits'].astype('int')\n",
    "Diabetes['Veggies'] = Diabetes['Veggies'].astype('int')\n",
    "Diabetes['HvyAlcoholConsump'] = Diabetes['HvyAlcoholConsump'].astype('int')\n",
    "Diabetes['AnyHealthcare'] = Diabetes['AnyHealthcare'].astype('int')\n",
    "Diabetes['NoDocbcCost'] = Diabetes['NoDocbcCost'].astype('int')\n",
    "Diabetes['GenHlth'] = Diabetes['GenHlth'].astype('int')\n",
    "Diabetes['MentHlth'] = Diabetes['MentHlth'].astype('int')\n",
    "Diabetes['PhysHlth'] = Diabetes['PhysHlth'].astype('int')\n",
    "Diabetes['DiffWalk'] = Diabetes['DiffWalk'].astype('int')\n",
    "Diabetes['Education'] = Diabetes['Education'].astype('int')\n",
    "Diabetes['Income'] = Diabetes['Income'].astype('int')"
   ]
  },
  {
   "cell_type": "markdown",
   "id": "7d5745b8",
   "metadata": {},
   "source": [
    "# preprocessing for modeling  \n"
   ]
  },
  {
   "cell_type": "code",
   "execution_count": null,
   "id": "90a26df3",
   "metadata": {},
   "outputs": [],
   "source": [
    "Diabetes= Diabetes.drop(columns = ['Smoker','Stroke','HeartDiseaseorAttack','PhysActivity','Fruits','Veggies',\n",
    "              'HvyAlcoholConsump', 'AnyHealthcare','NoDocbcCost','GenHlth','MentHlth','PhysHlth','DiffWalk','Education','CholCheck','BMI','Income'] )"
   ]
  },
  {
   "cell_type": "code",
   "execution_count": null,
   "id": "3346d6a0",
   "metadata": {},
   "outputs": [],
   "source": [
    "Diabetes.head()\n"
   ]
  },
  {
   "cell_type": "code",
   "execution_count": null,
   "id": "616fcd8b",
   "metadata": {},
   "outputs": [],
   "source": [
    "sns.pairplot(Diabetes,hue='Diabetes_binary',kind='kde'); #how to use good feature from of pairplot "
   ]
  },
  {
   "cell_type": "code",
   "execution_count": null,
   "id": "b4f6c63f",
   "metadata": {},
   "outputs": [],
   "source": []
  },
  {
   "cell_type": "markdown",
   "id": "f8637e19",
   "metadata": {},
   "source": [
    "# Modeling "
   ]
  },
  {
   "cell_type": "markdown",
   "id": "3ce70097",
   "metadata": {},
   "source": [
    "## KNN "
   ]
  },
  {
   "cell_type": "code",
   "execution_count": null,
   "id": "775c41d8",
   "metadata": {},
   "outputs": [],
   "source": [
    "from sklearn.neighbors import KNeighborsClassifier\n",
    "knn = KNeighborsClassifier(n_neighborsint= 5)\n",
    "knn.fit(x_train_scaled, y_train)"
   ]
  },
  {
   "cell_type": "markdown",
   "id": "9ba239fd",
   "metadata": {},
   "source": [
    "## logistsic regression  "
   ]
  },
  {
   "cell_type": "code",
   "execution_count": null,
   "id": "f650f6d0",
   "metadata": {},
   "outputs": [],
   "source": [
    "##lr= LogisticRegression()\n",
    "##lr.fit(x_train_scaled(), y_train)"
   ]
  },
  {
   "cell_type": "code",
   "execution_count": null,
   "id": "179acef2",
   "metadata": {},
   "outputs": [],
   "source": [
    "##y_pred=lr.predict(x_test_scaled)"
   ]
  },
  {
   "cell_type": "code",
   "execution_count": null,
   "id": "3c51dd86",
   "metadata": {},
   "outputs": [],
   "source": []
  }
 ],
 "metadata": {
  "kernelspec": {
   "display_name": "Python 3",
   "language": "python",
   "name": "python3"
  },
  "language_info": {
   "codemirror_mode": {
    "name": "ipython",
    "version": 3
   },
   "file_extension": ".py",
   "mimetype": "text/x-python",
   "name": "python",
   "nbconvert_exporter": "python",
   "pygments_lexer": "ipython3",
   "version": "3.7.6"
  }
 },
 "nbformat": 4,
 "nbformat_minor": 5
}
